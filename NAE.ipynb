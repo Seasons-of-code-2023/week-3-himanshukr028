{
 "cells": [
  {
   "cell_type": "code",
   "execution_count": 1,
   "id": "c5938410",
   "metadata": {},
   "outputs": [],
   "source": [
    "import torch\n",
    "import torch.nn as nn\n",
    "import torchvision\n",
    "import torchvision.transforms as transforms\n",
    "import matplotlib.pyplot as plt"
   ]
  },
  {
   "cell_type": "code",
   "execution_count": 2,
   "id": "7c4d7f08",
   "metadata": {},
   "outputs": [],
   "source": [
    "# Device configuration\n",
    "device = torch.device('cuda' if torch.cuda.is_available() else 'cpu')\n",
    "\n",
    "# Hyper-parameters\n",
    "num_epochs = 10\n",
    "batch_size = 100\n",
    "learning_rate = 0.001\n",
    "\n",
    "# MNIST dataset\n",
    "train_dataset = torchvision.datasets.FashionMNIST(root='./data', train=True, transform=transforms.ToTensor(), download=True)\n",
    "test_dataset = torchvision.datasets.FashionMNIST(root='./data', train=False, transform=transforms.ToTensor())\n",
    "\n",
    "# Data loader\n",
    "train_loader = torch.utils.data.DataLoader(dataset=train_dataset, batch_size=batch_size, shuffle=True)\n",
    "test_loader = torch.utils.data.DataLoader(dataset=test_dataset, batch_size=batch_size, shuffle=False)\n",
    "\n"
   ]
  },
  {
   "cell_type": "code",
   "execution_count": 3,
   "id": "0cb910e8",
   "metadata": {},
   "outputs": [],
   "source": [
    "# Autoencoder model\n",
    "class Autoencoder(nn.Module):\n",
    "    def __init__(self):\n",
    "        super(Autoencoder, self).__init__()\n",
    "        self.encoder = nn.Sequential(\n",
    "            nn.Linear(28 * 28, 128),\n",
    "            nn.ReLU(),\n",
    "            nn.Linear(128, 64),\n",
    "            nn.ReLU(),\n",
    "            nn.Linear(64, 32)\n",
    "        )\n",
    "        self.decoder = nn.Sequential(\n",
    "            nn.Linear(32, 64),\n",
    "            nn.ReLU(),\n",
    "            nn.Linear(64, 128),\n",
    "            nn.ReLU(),\n",
    "            nn.Linear(128, 28 * 28),\n",
    "            nn.Sigmoid()\n",
    "        )\n",
    "    \n",
    "    def forward(self, x):\n",
    "        x = self.encoder(x)\n",
    "        x = self.decoder(x)\n",
    "        return x\n"
   ]
  },
  {
   "cell_type": "code",
   "execution_count": 4,
   "id": "fedd13cc",
   "metadata": {},
   "outputs": [],
   "source": [
    "# Initialize the autoencoder\n",
    "model = Autoencoder().to(device)\n",
    "\n",
    "# Loss and optimizer\n",
    "criterion = nn.MSELoss()\n",
    "optimizer = torch.optim.Adam(model.parameters(), lr=learning_rate)\n"
   ]
  },
  {
   "cell_type": "code",
   "execution_count": 6,
   "id": "603de786",
   "metadata": {},
   "outputs": [
    {
     "name": "stdout",
     "output_type": "stream",
     "text": [
      "Epoch [1/10], Step [100/600], Loss: 0.0459\n",
      "Epoch [1/10], Step [200/600], Loss: 0.0360\n",
      "Epoch [1/10], Step [300/600], Loss: 0.0282\n",
      "Epoch [1/10], Step [400/600], Loss: 0.0268\n",
      "Epoch [1/10], Step [500/600], Loss: 0.0248\n",
      "Epoch [1/10], Step [600/600], Loss: 0.0214\n",
      "Epoch [2/10], Step [100/600], Loss: 0.0231\n",
      "Epoch [2/10], Step [200/600], Loss: 0.0219\n",
      "Epoch [2/10], Step [300/600], Loss: 0.0216\n",
      "Epoch [2/10], Step [400/600], Loss: 0.0189\n",
      "Epoch [2/10], Step [500/600], Loss: 0.0220\n",
      "Epoch [2/10], Step [600/600], Loss: 0.0185\n",
      "Epoch [3/10], Step [100/600], Loss: 0.0214\n",
      "Epoch [3/10], Step [200/600], Loss: 0.0181\n",
      "Epoch [3/10], Step [300/600], Loss: 0.0181\n",
      "Epoch [3/10], Step [400/600], Loss: 0.0197\n",
      "Epoch [3/10], Step [500/600], Loss: 0.0188\n",
      "Epoch [3/10], Step [600/600], Loss: 0.0169\n",
      "Epoch [4/10], Step [100/600], Loss: 0.0178\n",
      "Epoch [4/10], Step [200/600], Loss: 0.0167\n",
      "Epoch [4/10], Step [300/600], Loss: 0.0175\n",
      "Epoch [4/10], Step [400/600], Loss: 0.0152\n",
      "Epoch [4/10], Step [500/600], Loss: 0.0165\n",
      "Epoch [4/10], Step [600/600], Loss: 0.0166\n",
      "Epoch [5/10], Step [100/600], Loss: 0.0156\n",
      "Epoch [5/10], Step [200/600], Loss: 0.0163\n",
      "Epoch [5/10], Step [300/600], Loss: 0.0167\n",
      "Epoch [5/10], Step [400/600], Loss: 0.0166\n",
      "Epoch [5/10], Step [500/600], Loss: 0.0157\n",
      "Epoch [5/10], Step [600/600], Loss: 0.0160\n",
      "Epoch [6/10], Step [100/600], Loss: 0.0139\n",
      "Epoch [6/10], Step [200/600], Loss: 0.0153\n",
      "Epoch [6/10], Step [300/600], Loss: 0.0142\n",
      "Epoch [6/10], Step [400/600], Loss: 0.0165\n",
      "Epoch [6/10], Step [500/600], Loss: 0.0143\n",
      "Epoch [6/10], Step [600/600], Loss: 0.0165\n",
      "Epoch [7/10], Step [100/600], Loss: 0.0152\n",
      "Epoch [7/10], Step [200/600], Loss: 0.0137\n",
      "Epoch [7/10], Step [300/600], Loss: 0.0168\n",
      "Epoch [7/10], Step [400/600], Loss: 0.0144\n",
      "Epoch [7/10], Step [500/600], Loss: 0.0156\n",
      "Epoch [7/10], Step [600/600], Loss: 0.0166\n",
      "Epoch [8/10], Step [100/600], Loss: 0.0143\n",
      "Epoch [8/10], Step [200/600], Loss: 0.0149\n",
      "Epoch [8/10], Step [300/600], Loss: 0.0138\n",
      "Epoch [8/10], Step [400/600], Loss: 0.0121\n",
      "Epoch [8/10], Step [500/600], Loss: 0.0138\n",
      "Epoch [8/10], Step [600/600], Loss: 0.0144\n",
      "Epoch [9/10], Step [100/600], Loss: 0.0145\n",
      "Epoch [9/10], Step [200/600], Loss: 0.0155\n",
      "Epoch [9/10], Step [300/600], Loss: 0.0135\n",
      "Epoch [9/10], Step [400/600], Loss: 0.0139\n",
      "Epoch [9/10], Step [500/600], Loss: 0.0132\n",
      "Epoch [9/10], Step [600/600], Loss: 0.0155\n",
      "Epoch [10/10], Step [100/600], Loss: 0.0147\n",
      "Epoch [10/10], Step [200/600], Loss: 0.0142\n",
      "Epoch [10/10], Step [300/600], Loss: 0.0118\n",
      "Epoch [10/10], Step [400/600], Loss: 0.0145\n",
      "Epoch [10/10], Step [500/600], Loss: 0.0131\n",
      "Epoch [10/10], Step [600/600], Loss: 0.0158\n"
     ]
    }
   ],
   "source": [
    "#  Training the autoencoder\n",
    "total_step = len(train_loader)\n",
    "for epoch in range(num_epochs):\n",
    "    for i, (images, _) in enumerate(train_loader):\n",
    "        # Flatten the images\n",
    "        images = images.reshape(-1, 28 * 28).to(device)\n",
    "        \n",
    "        # Forward pass\n",
    "        outputs = model(images)\n",
    "        loss = criterion(outputs, images)\n",
    "        \n",
    "        # Backward and optimize\n",
    "        optimizer.zero_grad()\n",
    "        loss.backward()\n",
    "        optimizer.step()\n",
    "        \n",
    "        if (i+1) % 100 == 0:\n",
    "            print('Epoch [{}/{}], Step [{}/{}], Loss: {:.4f}'.format(epoch+1, num_epochs, i+1, total_step, loss.item()))\n"
   ]
  },
  {
   "cell_type": "code",
   "execution_count": 7,
   "id": "bbf025f3",
   "metadata": {},
   "outputs": [
    {
     "data": {
      "image/png": "[encoded data removed]",
      "text/plain": [
       "<Figure size 720x288 with 10 Axes>"
      ]
     },
     "metadata": {
      "needs_background": "light"
     },
     "output_type": "display_data"
    }
   ],
   "source": [
    "# Testing the autoencoder\n",
    "with torch.no_grad():\n",
    "    for images, _ in test_loader:\n",
    "        images = images.reshape(-1, 28 * 28).to(device)\n",
    "        outputs = model(images)\n",
    "        outputs = outputs.reshape(-1, 1, 28, 28)\n",
    "        break\n",
    "\n",
    "# Plotting the original and reconstructed images\n",
    "plt.figure(figsize=(10, 4))\n",
    "for i in range(5):\n",
    "    # Original images\n",
    "    ax = plt.subplot(2, 5, i+1)\n",
    "    plt.imshow(images[i].cpu().reshape(28, 28), cmap='gray')\n",
    "    ax.axis('off')\n",
    "    \n",
    "    # Reconstructed images\n",
    "    ax = plt.subplot(2, 5, i+6)\n",
    "    plt.imshow(outputs[i].cpu().reshape(28, 28), cmap='gray')\n",
    "    ax.axis('off')\n",
    "\n",
    "plt.show()"
   ]
  },
  {
   "cell_type": "code",
   "execution_count": null,
   "id": "21a72f64",
   "metadata": {},
   "outputs": [],
   "source": []
  }
 ],
 "metadata": {
  "kernelspec": {
   "display_name": "Python 3 (ipykernel)",
   "language": "python",
   "name": "python3"
  },
  "language_info": {
   "codemirror_mode": {
    "name": "ipython",
    "version": 3
   },
   "file_extension": ".py",
   "mimetype": "text/x-python",
   "name": "python",
   "nbconvert_exporter": "python",
   "pygments_lexer": "ipython3",
   "version": "3.9.12"
  }
 },
 "nbformat": 4,
 "nbformat_minor": 5
}
